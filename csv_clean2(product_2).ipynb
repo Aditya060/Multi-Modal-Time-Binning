{
 "cells": [
  {
   "cell_type": "code",
   "execution_count": 60,
   "metadata": {},
   "outputs": [],
   "source": [
    "import pandas as pd"
   ]
  },
  {
   "cell_type": "code",
   "execution_count": 61,
   "metadata": {},
   "outputs": [],
   "source": [
    "df = pd.read_csv('modified_iphone13_reviews.csv') "
   ]
  },
  {
   "cell_type": "code",
   "execution_count": 62,
   "metadata": {},
   "outputs": [],
   "source": [
    "month_mapping = {\n",
    "    1: 'Aug',\n",
    "    2: 'Jul',\n",
    "    3: 'Jun',\n",
    "    4: 'May',\n",
    "    5: 'Apr',\n",
    "    6: 'Mar',\n",
    "    7: 'Feb',\n",
    "    8: 'Jan',\n",
    "    9: 'Dec',\n",
    "    10: 'Nov',\n",
    "    11: 'Oct',\n",
    "    12: 'Sep'\n",
    "}"
   ]
  },
  {
   "cell_type": "code",
   "execution_count": 63,
   "metadata": {},
   "outputs": [],
   "source": [
    "def convert_months_ago(months_ago):\n",
    "    try:\n",
    "        # Split the input into month and year\n",
    "        parts = months_ago.split(' ')\n",
    "        month = month_mapping.get(int(parts[0].strip()))\n",
    "        # print(month)\n",
    "        year = 2023\n",
    "        if(int(parts[0].strip())>8):\n",
    "            year = 2022\n",
    "\n",
    "        # year = 2023\n",
    "        \n",
    "        # Convert to a valid date format (the 1st day of the month)\n",
    "        date = pd.to_datetime(f'01-{month}-{year}', format='%d-%b-%Y')\n",
    "        return date.strftime('%b, %Y')\n",
    "    except (ValueError, IndexError):\n",
    "        # Handle invalid date strings here\n",
    "        return 'Invalid Date'"
   ]
  },
  {
   "cell_type": "code",
   "execution_count": 64,
   "metadata": {},
   "outputs": [],
   "source": [
    "df['Processed_Date'] = df['Reviews'].apply(lambda x: convert_months_ago(x) if 'ago' in x else x)"
   ]
  },
  {
   "cell_type": "code",
   "execution_count": 65,
   "metadata": {},
   "outputs": [
    {
     "data": {
      "text/html": [
       "<div>\n",
       "<style scoped>\n",
       "    .dataframe tbody tr th:only-of-type {\n",
       "        vertical-align: middle;\n",
       "    }\n",
       "\n",
       "    .dataframe tbody tr th {\n",
       "        vertical-align: top;\n",
       "    }\n",
       "\n",
       "    .dataframe thead th {\n",
       "        text-align: right;\n",
       "    }\n",
       "</style>\n",
       "<table border=\"1\" class=\"dataframe\">\n",
       "  <thead>\n",
       "    <tr style=\"text-align: right;\">\n",
       "      <th></th>\n",
       "      <th>Reviews</th>\n",
       "      <th>Ratings</th>\n",
       "      <th>Processed_Date</th>\n",
       "    </tr>\n",
       "  </thead>\n",
       "  <tbody>\n",
       "    <tr>\n",
       "      <th>413</th>\n",
       "      <td>25 days ago</td>\n",
       "      <td>5.0</td>\n",
       "      <td>Invalid Date</td>\n",
       "    </tr>\n",
       "    <tr>\n",
       "      <th>542</th>\n",
       "      <td>30 days ago</td>\n",
       "      <td>5.0</td>\n",
       "      <td>Invalid Date</td>\n",
       "    </tr>\n",
       "    <tr>\n",
       "      <th>795</th>\n",
       "      <td>16 days ago</td>\n",
       "      <td>5.0</td>\n",
       "      <td>Invalid Date</td>\n",
       "    </tr>\n",
       "    <tr>\n",
       "      <th>796</th>\n",
       "      <td>19 days ago</td>\n",
       "      <td>5.0</td>\n",
       "      <td>Invalid Date</td>\n",
       "    </tr>\n",
       "    <tr>\n",
       "      <th>797</th>\n",
       "      <td>19 days ago</td>\n",
       "      <td>5.0</td>\n",
       "      <td>Invalid Date</td>\n",
       "    </tr>\n",
       "    <tr>\n",
       "      <th>...</th>\n",
       "      <td>...</td>\n",
       "      <td>...</td>\n",
       "      <td>...</td>\n",
       "    </tr>\n",
       "    <tr>\n",
       "      <th>6066</th>\n",
       "      <td>21 days ago</td>\n",
       "      <td>5.0</td>\n",
       "      <td>Invalid Date</td>\n",
       "    </tr>\n",
       "    <tr>\n",
       "      <th>6070</th>\n",
       "      <td>22 days ago</td>\n",
       "      <td>5.0</td>\n",
       "      <td>Invalid Date</td>\n",
       "    </tr>\n",
       "    <tr>\n",
       "      <th>6081</th>\n",
       "      <td>26 days ago</td>\n",
       "      <td>5.0</td>\n",
       "      <td>Invalid Date</td>\n",
       "    </tr>\n",
       "    <tr>\n",
       "      <th>6089</th>\n",
       "      <td>29 days ago</td>\n",
       "      <td>5.0</td>\n",
       "      <td>Invalid Date</td>\n",
       "    </tr>\n",
       "    <tr>\n",
       "      <th>6090</th>\n",
       "      <td>30 days ago</td>\n",
       "      <td>5.0</td>\n",
       "      <td>Invalid Date</td>\n",
       "    </tr>\n",
       "  </tbody>\n",
       "</table>\n",
       "<p>78 rows × 3 columns</p>\n",
       "</div>"
      ],
      "text/plain": [
       "          Reviews  Ratings Processed_Date\n",
       "413   25 days ago      5.0   Invalid Date\n",
       "542   30 days ago      5.0   Invalid Date\n",
       "795   16 days ago      5.0   Invalid Date\n",
       "796   19 days ago      5.0   Invalid Date\n",
       "797   19 days ago      5.0   Invalid Date\n",
       "...           ...      ...            ...\n",
       "6066  21 days ago      5.0   Invalid Date\n",
       "6070  22 days ago      5.0   Invalid Date\n",
       "6081  26 days ago      5.0   Invalid Date\n",
       "6089  29 days ago      5.0   Invalid Date\n",
       "6090  30 days ago      5.0   Invalid Date\n",
       "\n",
       "[78 rows x 3 columns]"
      ]
     },
     "execution_count": 65,
     "metadata": {},
     "output_type": "execute_result"
    }
   ],
   "source": [
    "df[df['Processed_Date']=='Invalid Date']"
   ]
  },
  {
   "cell_type": "code",
   "execution_count": 66,
   "metadata": {},
   "outputs": [],
   "source": [
    "df.loc[df['Processed_Date'] == 'Invalid Date', 'Processed_Date'] = 'Sep, 2023'\n"
   ]
  },
  {
   "cell_type": "code",
   "execution_count": 67,
   "metadata": {},
   "outputs": [
    {
     "data": {
      "text/html": [
       "<div>\n",
       "<style scoped>\n",
       "    .dataframe tbody tr th:only-of-type {\n",
       "        vertical-align: middle;\n",
       "    }\n",
       "\n",
       "    .dataframe tbody tr th {\n",
       "        vertical-align: top;\n",
       "    }\n",
       "\n",
       "    .dataframe thead th {\n",
       "        text-align: right;\n",
       "    }\n",
       "</style>\n",
       "<table border=\"1\" class=\"dataframe\">\n",
       "  <thead>\n",
       "    <tr style=\"text-align: right;\">\n",
       "      <th></th>\n",
       "      <th>Reviews</th>\n",
       "      <th>Ratings</th>\n",
       "      <th>Processed_Date</th>\n",
       "    </tr>\n",
       "  </thead>\n",
       "  <tbody>\n",
       "    <tr>\n",
       "      <th>0</th>\n",
       "      <td>11 months ago</td>\n",
       "      <td>5.0</td>\n",
       "      <td>Oct, 2022</td>\n",
       "    </tr>\n",
       "    <tr>\n",
       "      <th>1</th>\n",
       "      <td>11 months ago</td>\n",
       "      <td>5.0</td>\n",
       "      <td>Oct, 2022</td>\n",
       "    </tr>\n",
       "    <tr>\n",
       "      <th>2</th>\n",
       "      <td>Jun, 2022</td>\n",
       "      <td>5.0</td>\n",
       "      <td>Jun, 2022</td>\n",
       "    </tr>\n",
       "    <tr>\n",
       "      <th>3</th>\n",
       "      <td>Nov, 2021</td>\n",
       "      <td>5.0</td>\n",
       "      <td>Nov, 2021</td>\n",
       "    </tr>\n",
       "    <tr>\n",
       "      <th>4</th>\n",
       "      <td>Apr, 2022</td>\n",
       "      <td>5.0</td>\n",
       "      <td>Apr, 2022</td>\n",
       "    </tr>\n",
       "    <tr>\n",
       "      <th>...</th>\n",
       "      <td>...</td>\n",
       "      <td>...</td>\n",
       "      <td>...</td>\n",
       "    </tr>\n",
       "    <tr>\n",
       "      <th>6178</th>\n",
       "      <td>11 months ago</td>\n",
       "      <td>5.0</td>\n",
       "      <td>Oct, 2022</td>\n",
       "    </tr>\n",
       "    <tr>\n",
       "      <th>6179</th>\n",
       "      <td>11 months ago</td>\n",
       "      <td>5.0</td>\n",
       "      <td>Oct, 2022</td>\n",
       "    </tr>\n",
       "    <tr>\n",
       "      <th>6180</th>\n",
       "      <td>11 months ago</td>\n",
       "      <td>5.0</td>\n",
       "      <td>Oct, 2022</td>\n",
       "    </tr>\n",
       "    <tr>\n",
       "      <th>6181</th>\n",
       "      <td>1 month ago</td>\n",
       "      <td>5.0</td>\n",
       "      <td>Aug, 2023</td>\n",
       "    </tr>\n",
       "    <tr>\n",
       "      <th>6182</th>\n",
       "      <td>11 months ago</td>\n",
       "      <td>1.0</td>\n",
       "      <td>Oct, 2022</td>\n",
       "    </tr>\n",
       "  </tbody>\n",
       "</table>\n",
       "<p>6183 rows × 3 columns</p>\n",
       "</div>"
      ],
      "text/plain": [
       "            Reviews  Ratings Processed_Date\n",
       "0     11 months ago      5.0      Oct, 2022\n",
       "1     11 months ago      5.0      Oct, 2022\n",
       "2         Jun, 2022      5.0      Jun, 2022\n",
       "3         Nov, 2021      5.0      Nov, 2021\n",
       "4         Apr, 2022      5.0      Apr, 2022\n",
       "...             ...      ...            ...\n",
       "6178  11 months ago      5.0      Oct, 2022\n",
       "6179  11 months ago      5.0      Oct, 2022\n",
       "6180  11 months ago      5.0      Oct, 2022\n",
       "6181    1 month ago      5.0      Aug, 2023\n",
       "6182  11 months ago      1.0      Oct, 2022\n",
       "\n",
       "[6183 rows x 3 columns]"
      ]
     },
     "execution_count": 67,
     "metadata": {},
     "output_type": "execute_result"
    }
   ],
   "source": [
    "df"
   ]
  },
  {
   "cell_type": "code",
   "execution_count": 68,
   "metadata": {},
   "outputs": [],
   "source": [
    "df['Processed_Date'] = pd.to_datetime(df['Processed_Date'], format='%b, %Y')"
   ]
  },
  {
   "cell_type": "code",
   "execution_count": 69,
   "metadata": {},
   "outputs": [],
   "source": [
    "df = df.sort_values(by='Processed_Date')"
   ]
  },
  {
   "cell_type": "code",
   "execution_count": 70,
   "metadata": {},
   "outputs": [],
   "source": [
    "df.reset_index(drop=True, inplace=True)"
   ]
  },
  {
   "cell_type": "code",
   "execution_count": 71,
   "metadata": {},
   "outputs": [],
   "source": [
    "df.to_csv('sorted_file.csv', index=False)"
   ]
  },
  {
   "cell_type": "code",
   "execution_count": null,
   "metadata": {},
   "outputs": [],
   "source": []
  }
 ],
 "metadata": {
  "kernelspec": {
   "display_name": "Python 3",
   "language": "python",
   "name": "python3"
  },
  "language_info": {
   "codemirror_mode": {
    "name": "ipython",
    "version": 3
   },
   "file_extension": ".py",
   "mimetype": "text/x-python",
   "name": "python",
   "nbconvert_exporter": "python",
   "pygments_lexer": "ipython3",
   "version": "3.11.4"
  },
  "orig_nbformat": 4
 },
 "nbformat": 4,
 "nbformat_minor": 2
}
