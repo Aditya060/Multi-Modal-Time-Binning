{
 "cells": [
  {
   "cell_type": "code",
   "execution_count": 6,
   "metadata": {},
   "outputs": [],
   "source": [
    "import requests   \n",
    "from bs4 import BeautifulSoup as bs \n",
    "import re \n",
    "import nltk\n",
    "import matplotlib.pyplot as plt\n",
    "from wordcloud import WordCloud\n",
    "import os\n",
    "import pandas as pd"
   ]
  },
  {
   "cell_type": "code",
   "execution_count": 7,
   "metadata": {},
   "outputs": [],
   "source": [
    "iphone13_reviews = []\n",
    "iphone13_ratings = []\n",
    "\n",
    "for i in range(1, 999):\n",
    "    url = \"https://www.flipkart.com/apple-iphone-13-starlight-128-gb/product-reviews/itmc9604f122ae7f?pid=MOBG6VF5ADKHKXFX&lid=LSTMOBG6VF5ADKHKXFXQGX7PK&marketplace=FLIPKART&page=\" + str(i)\n",
    "    response = requests.get(url)\n",
    "    soup = bs(response.content, \"html.parser\")  \n",
    "    reviews = soup.findAll(\"p\", class_=\"_2sc7ZR\")\n",
    "\n",
    "    ratings = soup.findAll(\"div\",class_=\"_3LWZlK\")\n",
    "\n",
    "    for review in reviews:\n",
    "        iphone13_reviews.append(review.text)\n",
    "\n",
    "    for rating in ratings:\n",
    "        iphone13_ratings.append(rating.text)\n",
    "\n",
    "reviews_data = {'Reviews': iphone13_reviews}\n",
    "ratings_data = {'Ratings': iphone13_ratings}\n",
    "\n",
    "reviews_df = pd.DataFrame(reviews_data)\n",
    "ratings_df = pd.DataFrame(ratings_data)\n",
    "\n",
    "reviews_df.to_csv('iphone13_reviews.csv', index=False)\n",
    "ratings_df.to_csv('iphone13_ratings.csv', index=False)\n"
   ]
  }
 ],
 "metadata": {
  "kernelspec": {
   "display_name": "Python 3",
   "language": "python",
   "name": "python3"
  },
  "language_info": {
   "codemirror_mode": {
    "name": "ipython",
    "version": 3
   },
   "file_extension": ".py",
   "mimetype": "text/x-python",
   "name": "python",
   "nbconvert_exporter": "python",
   "pygments_lexer": "ipython3",
   "version": "3.11.4"
  },
  "orig_nbformat": 4
 },
 "nbformat": 4,
 "nbformat_minor": 2
}
