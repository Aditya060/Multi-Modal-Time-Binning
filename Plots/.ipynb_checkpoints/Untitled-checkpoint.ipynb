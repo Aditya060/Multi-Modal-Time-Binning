{
 "cells": [
  {
   "cell_type": "code",
   "execution_count": null,
   "id": "44cc597a",
   "metadata": {},
   "outputs": [],
   "source": [
    "import pandas as pd\n",
    "import numpy as np\n",
    "import matplotlib.pyplot as plt\n",
    "import seaborn as sb\n"
   ]
  },
  {
   "cell_type": "code",
   "execution_count": null,
   "id": "62d610e7",
   "metadata": {},
   "outputs": [],
   "source": [
    "df = pd.read_csv('sorted_file.csv')"
   ]
  },
  {
   "cell_type": "code",
   "execution_count": null,
   "id": "7f267dad",
   "metadata": {},
   "outputs": [],
   "source": [
    "df.head()"
   ]
  },
  {
   "cell_type": "code",
   "execution_count": null,
   "id": "a56dcfd8",
   "metadata": {},
   "outputs": [],
   "source": [
    "dates = pd.to_datetime(df['Processed_Date'])\n",
    "ratings = df['Reviews']\n"
   ]
  },
  {
   "cell_type": "code",
   "execution_count": null,
   "id": "7a3a82bd",
   "metadata": {},
   "outputs": [],
   "source": [
    "# plt.figure(figsize = (10,6))\n",
    "# plt.plot(dates, ratings, marker = 'o', linestyle = \"-\")\n",
    "# plt.xlabel('Date')\n",
    "# plt.ylabel('Ratings')\n",
    "# plt.title('Date vs Ratings')\n",
    "# plt.grid(True)\n",
    "# plt.show()\n"
   ]
  },
  {
   "cell_type": "code",
   "execution_count": null,
   "id": "4cbcb687",
   "metadata": {},
   "outputs": [],
   "source": [
    "df['Processed_Date'] = pd.to_datetime(df['Processed_Date'])\n",
    "def plot(rating):\n",
    "    rating_data = df[df['Ratings'] == rating ]\n",
    "    rating_data = rating_data.resample('M', on = 'Processed_Date').count()\n",
    "    \n",
    "    plt.figure(figsize = (10,6))\n",
    "    plt.plot(rating_data.index, rating_data['Ratings'])\n",
    "    plt.xlabel('Date')\n",
    "    plt.ylabel('Number of Ratings')\n",
    "    plt.title(f'Rating {rating} Over Time')\n",
    "    plt.grid(True)\n",
    "    plt.show()"
   ]
  },
  {
   "cell_type": "code",
   "execution_count": null,
   "id": "5cc1a2c9",
   "metadata": {},
   "outputs": [],
   "source": [
    "plot(1)"
   ]
  },
  {
   "cell_type": "code",
   "execution_count": null,
   "id": "bf1de652",
   "metadata": {},
   "outputs": [],
   "source": [
    "plot(2)"
   ]
  },
  {
   "cell_type": "code",
   "execution_count": null,
   "id": "b9b6003f",
   "metadata": {},
   "outputs": [],
   "source": [
    "plot(3)"
   ]
  },
  {
   "cell_type": "code",
   "execution_count": null,
   "id": "c15592f9",
   "metadata": {},
   "outputs": [],
   "source": [
    "plot(4)"
   ]
  },
  {
   "cell_type": "code",
   "execution_count": null,
   "id": "260e8c4e",
   "metadata": {},
   "outputs": [],
   "source": [
    "plot(5)"
   ]
  },
  {
   "cell_type": "code",
   "execution_count": null,
   "id": "35668b51",
   "metadata": {},
   "outputs": [],
   "source": [
    "df['Processed_Date'] = pd.to_datetime(df['Processed_Date'])\n",
    "def plot2(rating):\n",
    "    rating_data = df[df['Ratings'] == rating ]\n",
    "    rating_data = rating_data.resample('M', on = 'Processed_Date').count()\n",
    "    \n",
    "    plt.figure(figsize = (10,6))\n",
    "    plt.scatter(rating_data.index, rating_data['Ratings'])\n",
    "    plt.xlabel('Date')\n",
    "    plt.ylabel('Number of Ratings')\n",
    "    plt.title(f'Rating {rating} Over Time')\n",
    "    plt.grid(True)\n",
    "    plt.show()"
   ]
  },
  {
   "cell_type": "code",
   "execution_count": null,
   "id": "6cbf73b4",
   "metadata": {},
   "outputs": [],
   "source": [
    "plot(4)\n"
   ]
  },
  {
   "cell_type": "code",
   "execution_count": null,
   "id": "b9cac1e3",
   "metadata": {},
   "outputs": [],
   "source": []
  }
 ],
 "metadata": {
  "kernelspec": {
   "display_name": "Python 3 (ipykernel)",
   "language": "python",
   "name": "python3"
  },
  "language_info": {
   "codemirror_mode": {
    "name": "ipython",
    "version": 3
   },
   "file_extension": ".py",
   "mimetype": "text/x-python",
   "name": "python",
   "nbconvert_exporter": "python",
   "pygments_lexer": "ipython3",
   "version": "3.11.4"
  }
 },
 "nbformat": 4,
 "nbformat_minor": 5
}
